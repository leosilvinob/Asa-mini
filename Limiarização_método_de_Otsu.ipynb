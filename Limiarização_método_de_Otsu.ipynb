{
  "nbformat": 4,
  "nbformat_minor": 0,
  "metadata": {
    "colab": {
      "name": "Limiarização método de Otsu.ipynb",
      "provenance": [],
      "collapsed_sections": [
        "UlAO0p7Dqy1m",
        "I0X9VYM7rERW"
      ],
      "authorship_tag": "ABX9TyOqHRvMKB0Nq60uXI5ufYBi",
      "include_colab_link": true
    },
    "kernelspec": {
      "name": "python3",
      "display_name": "Python 3"
    },
    "language_info": {
      "name": "python"
    }
  },
  "cells": [
    {
      "cell_type": "markdown",
      "metadata": {
        "id": "view-in-github",
        "colab_type": "text"
      },
      "source": [
        "<a href=\"https://colab.research.google.com/github/leosilvinob/Asa-mini/blob/main/Limiariza%C3%A7%C3%A3o_m%C3%A9todo_de_Otsu.ipynb\" target=\"_parent\"><img src=\"https://colab.research.google.com/assets/colab-badge.svg\" alt=\"Open In Colab\"/></a>"
      ]
    },
    {
      "cell_type": "markdown",
      "source": [
        "# Limiarização de imagens - método de Otsu\n",
        "### Autor: [Leonardo Silvino Brito](https://github.com/leosilvinob)\n",
        "#### Trainee da equipe de Inteligência Artifical @ Asa Branca Aerospace\n",
        "\n",
        "## Introdução\n",
        "<div align=\"center\">\n",
        "\t<img src=\"https://user-images.githubusercontent.com/\n",
        "\n",
        "1.   Item da lista\n",
        "2.   Item da lista\n",
        "\n",
        "62074916/145666647-7fe90979-206f-4eeb-8ec2-c077ff34c725.png\" title=\"threshold\" width=\"60%\"/>\n",
        "</div>"
      ],
      "metadata": {
        "id": "roKh-mBFqsMe"
      }
    },
    {
      "cell_type": "markdown",
      "source": [
        " Limiarização é um processo de segmentação de imagens que se baseia na diferença dos níveis de cinza que compõe diferentes objetos de uma imagem. \n",
        "  A partir de um limiar estabelecido de acordo com as características dos objetos que se quer isolar, a imagem pode ser segmentada em dois grupos: o grupo de pixels com níveis de cinza abaixo do limiar e o grupo de pixels com níveis de cinza acima do limiar. Se a intensidade do pixel da imagem de entrada for superior ao do limiar, o pixel é marcado como branco e se o pixel de entrada for menor, ele é marcado como preto."
      ],
      "metadata": {
        "id": "6y7JiuXvqtYo"
      }
    },
    {
      "cell_type": "markdown",
      "source": [
        "## Método de Otsu\n",
        "O método de Otsu é uma técnica que determina um limiar ótimo considerando uma imagem I, que apresenta melhor funcionamento em imagens cujos histogramas são bimodais. O histograma de tal imagem contém picos, que representam diferentes faixas de valores de intensidade.\n",
        "\n",
        "A ideia central é separar o histograma da imagem em dois clusters com um limite definido como resultado da minimização da variância ponderada dessas classes denotada por \n",
        "\t <img src=\"https://latex.codecogs.com/svg.image?\\sigma^{2}_w(t).\" title=\"\\sigma^{2}_w(t).\" style=\"display: inline-block;\">\n"
      ],
      "metadata": {
        "id": "UlAO0p7Dqy1m"
      }
    },
    {
      "cell_type": "markdown",
      "source": [
        "<div align=\"center\">\n",
        " \t<img src=\"https://github.com/leosilvinob/Asa-mini/blob/85fdcf3b9a2b869fc5cd562ea44136690145a9bb/Otsus-thresholding-by-Histogram-analysis.png?raw=true\" width=\"40%\" style=\"display: inline-block;\">\n",
        "</div>\n",
        "A equação completa pode ser determinada por:\n",
        "<div align=\"center\">\n",
        "\t<img src=\"https://latex.codecogs.com/svg.image?\\sigma^{2}_w(t)&space;=&space;w_1(t)\\sigma^{2}_1(t)&space;&plus;&space;w_2(t)\\sigma^{2}_2(t)\" title=\"\\sigma^{2}_w(t) = w_1(t)\\sigma^{2}_1(t) + w_2(t)\\sigma^{2}_2(t)\" style=\"display: inline-block;\">\n",
        "</div>\n",
        "Onde <img src=\"https://latex.codecogs.com/svg.image?w_1(t),&space;w_2(t)\" title=\"w_1(t), w_2(t)\"> são as probabilidades de duas classes dividias por um limiar *t*, que está no intervalo entre 0 e 255.\n",
        "\n",
        "Sendo *t* o nível de cinza que particiona o histograma da imagem em duas clases(*clusters*) C1 e C2, em que a primeira e a segunda classes compreendem os pixels cujos níveis de cinza pertencem ao  intervalo [1, t] e [t + 1, I], onde I é valor de pixel máximo(255). Assim, pode-se definir as probabilidades;\n",
        "<div align=\"center\">\n",
        "\t<img src=\"https://latex.codecogs.com/svg.image?\\mu_1(t)&space;=&space;\\sum_{i=1}^{t}\\frac{iP(i)}{w_1(t)}\" title=\"Probilidade C1}\">\n",
        "</div>\n",
        "\n",
        "<div align=\"center\">\n",
        "\t<img src=\"https://latex.codecogs.com/svg.image?\\mu_2(t)&space;=&space;\\sum_{i=t&plus;1}^{I}\\frac{iP(i)}{w_2(t)}\" title=\"Probilidade C2\">\n",
        "</div>\n",
        "Agora devemos encontrar os dois únicos valores que faltam, <img src=\"https://latex.codecogs.com/svg.image?\\sigma_1^{2}\" title=\"\\sigma_1^{2}\">  e <img src=\"https://latex.codecogs.com/svg.image?\\sigma_2^{2}\" title=\"\\sigma_2^{2}}\">, que são as variâncias de C1 e C2 respectivamos.\n",
        " <div align=\"center\">\n",
        "\t<img src=\"https://latex.codecogs.com/svg.image?\\sigma_1^{2}(t)&space;=&space;\\sum_{i=1}^{t}[i&space;-&space;\\mu_1(t)]^2&space;\\frac{P(i)}{w_1(t)},\" Variância C1\">\n",
        "</div>\n",
        "\n",
        " <div align=\"center\">\n",
        "\t<img src=\"https://latex.codecogs.com/svg.image?\\sigma_2^{2}(t)&space;=&space;\\sum_{i=t&plus;1}^{I}[i&space;-&space;\\mu_2(t)]^2&space;\\frac{P(i)}{w_2(t)}.\" title=\"Variância C2\">\n",
        "</div>\n",
        "\n",
        "Para ser obtido o valor do limiar de Otsu, basta calcular o valor de variação entre as classes: <img src=\"https://latex.codecogs.com/svg.image?\\sigma_b^2(t)&space;=&space;w_1(t)w_2(t)[\\mu_1(t)&space;-&space;\\mu_2(t)]^2\" title=\"Limiar de Otsu\"> e encontrar seu valor máximo."
      ],
      "metadata": {
        "id": "RQJF69nCq2PS"
      }
    },
    {
      "cell_type": "markdown",
      "source": [
        "## Implementação\n",
        "Pseudocódigo:\n",
        "```\n",
        "Procedimento: Limiarização pelo método de Otsu\n",
        "Entrada: image, // Imagem em escala de cinza, his\n",
        "Saída: R                        // limiar de Otsu\n",
        "\n",
        "INICIO\n",
        "\n",
        "VARIAVEIS\n",
        "histograma = histograma da imagem\n",
        "\n",
        "bin_edge = conjunto de valores das bordas das celulas do histograma\n",
        "\n",
        "bin_mids = conjunto de valores nos centros das celulas do histograma\n",
        "\n",
        "w1 = Somatório de 1 a t do histograma // Probabilidade do Cluster 1\n",
        "w2 = Somatório de t-1 ao valor do pixel máximo do histograma // Probabilidade do Cluster 2\n",
        "\n",
        "u1 = (Somatório de 1 a t do histograma*bin_mids)/w1 //Variância do cluster 1\n",
        "u2= (Somatório de t-1 ao valor do pixel máximo histograma*bin_mids)/w2 //Variância do cluster 2\n",
        "\n",
        "variância_clusters = w1*w2(u1-u2)²\n",
        "maxima_variancia = valor_maximo(variância_clusters)\n",
        "RETORNE bin_mids*maxima_variancia\n",
        "\n",
        "FIM\n",
        "```"
      ],
      "metadata": {
        "id": "DKO_t9DOq6NG"
      }
    },
    {
      "cell_type": "code",
      "source": [
        ""
      ],
      "metadata": {
        "id": "K_OeX8ljh0uP"
      },
      "execution_count": null,
      "outputs": []
    },
    {
      "cell_type": "markdown",
      "source": [
        "\n",
        "\n",
        "Python:\n",
        "```python\n",
        "import numpy as np\n",
        "import cv2\n",
        "\n",
        "one = files.upload()\n",
        "[i for i in dir(cv2) if i.startswith('IMREAD')]\n",
        "\n",
        "images = glob.glob('*.jpg') + glob.glob('*.png') + glob.glob('*.jpeg') + glob.glob('*.tiff')\n",
        "image = cv2.imread(images[0], cv2.IMREAD_GRAYSCALE)\n",
        "\n",
        "\n",
        "def thresholding(image: np.ndarray) -> np.ndarray:\n",
        "def thresholding(image: np.ndarray) -> np.ndarray:\n",
        "\n",
        "  bins_num = 256\n",
        "  hist, bin_edges = np.histogram(image, bins=bins_num)\n",
        "\n",
        "  bin_mids = (bin_edges[:-1] + bin_edges[1:]) / 2.\n",
        "  \n",
        "  w1 = np.cumsum(hist)\n",
        "  w2 = np.cumsum(hist[::-1])[::-1]\n",
        "\n",
        "  u1 = np.cumsum(hist * bin_mids) / weight1\n",
        "  \n",
        "  u2 = (np.cumsum((hist * bin_mids)[::-1]) / weight2[::-1])[::-1]\n",
        "\n",
        "  cluster_variance = weight1[:-1] * weight2[1:] * (mean1[:-1] - mean2[1:]) ** 2\n",
        "\n",
        "  # Maximize the inter_class_variance function val\n",
        "  index_of_max_val = np.argmax(inter_class_variance)\n",
        "\n",
        "  return bin_mids[:-1][index_of_max_val]\n",
        "\n",
        "\n",
        "\t"
      ],
      "metadata": {
        "id": "kHmp9f4Yq-G-"
      }
    },
    {
      "cell_type": "markdown",
      "source": [
        "<div align=\"center\">\n",
        " \t<img src=\"https://github.com/leosilvinob/Asa-mini/blob/main/xmascat.jpg?raw=true\" width=\"40%\" style=\"display: inline-block;\">\n",
        "</div>\n",
        "<div align=\"center\">\n",
        " \t<img src=\"https://raw.githubusercontent.com/leosilvinob/Asa-mini/main/otsu.png\" width=\"40%\" style=\"display: inline-block;\">\n",
        "</div>\n"
      ],
      "metadata": {
        "id": "-8gu-elk39D5"
      }
    },
    {
      "cell_type": "markdown",
      "source": [
        "## Conclusão\n",
        "Neste projeto foi exposto as caracteristicas da limiarização pelo método de Otsu, assim como seu embasamento matemático, pseudocódigo e seu seu código em *Python* para implementação.\n",
        "\n",
        "### Referências\n",
        "GONZALEZ, Rafel C., WOODS, Richard E., **Digital Image Processing**, 4ª Edição, Pearson, 2018"
      ],
      "metadata": {
        "id": "I0X9VYM7rERW"
      }
    },
    {
      "cell_type": "code",
      "source": [
        ""
      ],
      "metadata": {
        "id": "dvrxgAYarH_H"
      },
      "execution_count": null,
      "outputs": []
    }
  ]
}